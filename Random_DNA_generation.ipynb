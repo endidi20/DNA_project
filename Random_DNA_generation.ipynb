{
 "cells": [
  {
   "cell_type": "code",
   "execution_count": null,
   "id": "630890ea",
   "metadata": {},
   "outputs": [],
   "source": [
    "# A program that generates 5 random DNA sequences, named dna1 through dna5, each having between 21 and \n",
    "# 30 nucleotides (also, the length of the sequence has to be a multiple of 3, i.e., 21, 24, 27 or 30). \n",
    "# Save the 5 random sequences in a fasta formatted file, “output.fas”. Here is an example of the fasta format file:\n",
    "# >sequencex\n",
    "# AGCAGACGATTAAGCACCCCT\n",
    "# >sequencey\n",
    "# AGCAGACGATTAAGCATTCCT\n",
    "# >sequencez\n",
    "# AGCAGACGATTAAGCACCCC"
   ]
  },
  {
   "cell_type": "code",
   "execution_count": 1,
   "id": "e6414c61",
   "metadata": {},
   "outputs": [],
   "source": [
    "# Importing required library\n",
    "from random import randint\n",
    "\n",
    "# Creating functions for the random DNA sequences\n",
    "def random_base(RNAflag = False):\n",
    "    return ('UCAG' if RNAflag else 'TCAG')[randint(0,3)]\n",
    "\n",
    "def random_nuc(RNAflag = False):\n",
    "    return random_base(RNAflag)+random_base(RNAflag)+random_base(RNAflag)\n",
    "\n",
    "def random_nucs(minlength, maxlength, RNAflag):\n",
    "    return [random_nuc(RNAflag = False) for n in range(randint(minlength, maxlength))]"
   ]
  },
  {
   "cell_type": "code",
   "execution_count": 2,
   "id": "6c21b605",
   "metadata": {},
   "outputs": [],
   "source": [
    "# Saving the 5 random sequences in a fasta format file called “output.fas”\n",
    "\n",
    "outfile = open('output.fas', 'w')\n",
    "for i in range(1,6):\n",
    "    dna =random_nucs(7,10, RNAflag= False)\n",
    "    print ('>dna'+ str(i), file = outfile)\n",
    "    print(''.join([str(x) for x in dna]), file = outfile)\n",
    "\n",
    "outfile.close()  \n",
    "    "
   ]
  },
  {
   "cell_type": "code",
   "execution_count": 3,
   "id": "479d37f4",
   "metadata": {},
   "outputs": [
    {
     "name": "stdout",
     "output_type": "stream",
     "text": [
      ">dna1\n",
      "ATGTAGTTCTTCAATAACTTCTAAATGTTG\n",
      ">dna2\n",
      "CTGCAACCATACGTCTTTACTATG\n",
      ">dna3\n",
      "AGTGATCCTTGATTTAGCATCGTTCCA\n",
      ">dna4\n",
      "CTAGTACGGCTTGCGTGTCAATCT\n",
      ">dna5\n",
      "CGATGTGAAAGAGGGTGTGAGGGTCGAATC\n"
     ]
    }
   ],
   "source": [
    "# checking the contents of the fasta file\n",
    "with open('output.fas','r') as infile:\n",
    "    for line in infile:\n",
    "        print(line.strip())"
   ]
  }
 ],
 "metadata": {
  "kernelspec": {
   "display_name": "Python 3",
   "language": "python",
   "name": "python3"
  },
  "language_info": {
   "codemirror_mode": {
    "name": "ipython",
    "version": 3
   },
   "file_extension": ".py",
   "mimetype": "text/x-python",
   "name": "python",
   "nbconvert_exporter": "python",
   "pygments_lexer": "ipython3",
   "version": "3.8.8"
  }
 },
 "nbformat": 4,
 "nbformat_minor": 5
}
